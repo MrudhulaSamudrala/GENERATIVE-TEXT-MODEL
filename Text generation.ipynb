{
 "cells": [
  {
   "cell_type": "markdown",
   "id": "195c7b42-2236-4d13-a585-120bfa1e0848",
   "metadata": {},
   "source": [
    "# Import Libraries"
   ]
  },
  {
   "cell_type": "code",
   "execution_count": 1,
   "id": "52051950-1418-4fec-b9e2-014fb3a5c8df",
   "metadata": {},
   "outputs": [],
   "source": [
    "import gradio as gr\n",
    "from transformers import GPT2LMHeadModel, GPT2Tokenizer\n",
    "import torch"
   ]
  },
  {
   "cell_type": "markdown",
   "id": "15d1d178-cb74-4067-81f3-6f8412b8951c",
   "metadata": {},
   "source": [
    "# Loading the model and creating the generate function.\n",
    "Note : you can also change gpt2 to gpt2-x1 for a much more powerful model!"
   ]
  },
  {
   "cell_type": "code",
   "execution_count": 2,
   "id": "4eadd3ac-aa11-41da-af1d-d73010d20ce7",
   "metadata": {},
   "outputs": [],
   "source": [
    "# Load GPT-2 model and tokenizer\n",
    "model_name = \"gpt2\"\n",
    "tokenizer = GPT2Tokenizer.from_pretrained(model_name)\n",
    "model = GPT2LMHeadModel.from_pretrained(model_name)"
   ]
  },
  {
   "cell_type": "code",
   "execution_count": 3,
   "id": "cfa94be4-859d-4601-b404-cbfcdc2fc664",
   "metadata": {},
   "outputs": [],
   "source": [
    "# Function to generate text with improved randomness\n",
    "def generate_text(prompt):\n",
    "    input_ids = tokenizer.encode(prompt, return_tensors='pt')\n",
    "    output = model.generate(\n",
    "        input_ids, \n",
    "        max_length=150, \n",
    "        num_return_sequences=1, \n",
    "        temperature=0.9, \n",
    "        top_k=50, \n",
    "        top_p=0.9, \n",
    "        repetition_penalty=1.2\n",
    "    )\n",
    "    return tokenizer.decode(output[0], skip_special_tokens=True)"
   ]
  },
  {
   "cell_type": "code",
   "execution_count": 4,
   "id": "d62c282c-ccac-4b2f-972d-08dceda56e2a",
   "metadata": {},
   "outputs": [],
   "source": [
    "# creating the interface and launching !"
   ]
  },
  {
   "cell_type": "code",
   "execution_count": 5,
   "id": "626f2df0-7b0c-4dd8-8905-679c30ecc7bc",
   "metadata": {},
   "outputs": [
    {
     "name": "stdout",
     "output_type": "stream",
     "text": [
      "* Running on local URL:  http://127.0.0.1:7861\n",
      "\n",
      "To create a public link, set `share=True` in `launch()`.\n"
     ]
    },
    {
     "data": {
      "text/html": [
       "<div><iframe src=\"http://127.0.0.1:7861/\" width=\"100%\" height=\"500\" allow=\"autoplay; camera; microphone; clipboard-read; clipboard-write;\" frameborder=\"0\" allowfullscreen></iframe></div>"
      ],
      "text/plain": [
       "<IPython.core.display.HTML object>"
      ]
     },
     "metadata": {},
     "output_type": "display_data"
    },
    {
     "data": {
      "text/plain": []
     },
     "execution_count": 5,
     "metadata": {},
     "output_type": "execute_result"
    }
   ],
   "source": [
    "# Gradio Interface\n",
    "gr.Interface(\n",
    "    fn=generate_text, \n",
    "    inputs=gr.Textbox(lines=2, placeholder=\"Enter a sentence...\"), \n",
    "    outputs=gr.Textbox(),  # Fixed the outdated syntax\n",
    "    title=\"GPT-2 Text Generator\",\n",
    "    description=\"OpenAI's GPT-2 generates coherent text. Enter a sentence and see how it completes it!\"\n",
    ").launch()"
   ]
  },
  {
   "cell_type": "code",
   "execution_count": null,
   "id": "c87ff74d-c555-404b-a668-d94c5ceb5b71",
   "metadata": {},
   "outputs": [],
   "source": []
  }
 ],
 "metadata": {
  "kernelspec": {
   "display_name": "Python 3 (ipykernel)",
   "language": "python",
   "name": "python3"
  },
  "language_info": {
   "codemirror_mode": {
    "name": "ipython",
    "version": 3
   },
   "file_extension": ".py",
   "mimetype": "text/x-python",
   "name": "python",
   "nbconvert_exporter": "python",
   "pygments_lexer": "ipython3",
   "version": "3.12.3"
  }
 },
 "nbformat": 4,
 "nbformat_minor": 5
}
